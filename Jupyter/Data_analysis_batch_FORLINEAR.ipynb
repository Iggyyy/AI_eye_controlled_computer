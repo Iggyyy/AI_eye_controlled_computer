{
 "cells": [
  {
   "cell_type": "markdown",
   "metadata": {},
   "source": [
    "## Inicjalizacja danych\n",
    "### Import potrzebnych bibliotek oraz ładowanie pliku z modelami do zmiennej typu tuple \n",
    "***\n",
    "#### Wymagane biblioteki:\n",
    "* matplotlib\n",
    "* numpy\n",
    "* pandas\n",
    "* sklearn (importowana później)\n",
    "* seabor  (importowana później)\n"
   ]
  },
  {
   "cell_type": "code",
   "execution_count": 31,
   "metadata": {},
   "outputs": [
    {
     "name": "stdout",
     "output_type": "stream",
     "text": [
      "<class 'numpy.ndarray'>\n",
      "dtype: object\n",
      "ndim:  2\n",
      "shape: (720, 5)\n",
      "size:  3600\n",
      "#  | loss           | norm  | out_ac       | epochs | hidden layers \n",
      "----------------------------------------------------------------------------------------\n",
      " 0 | 85422306.0413793176 |     1 | linear       |     10 | [(16, 'linear')]\n",
      " 1 | 129261217.7103448212 |     1 | linear       |     20 | [(16, 'linear')]\n",
      " 2 | 132886589.6827586144 |     1 | linear       |     30 | [(16, 'linear')]\n",
      " 3 | 0.3254800678 |     1 | sigmoid      |     10 | [(16, 'linear')]\n",
      " 4 | 0.3530835134 |     1 | sigmoid      |     20 | [(16, 'linear')]\n",
      " 5 | 0.3530835134 |     1 | sigmoid      |     30 | [(16, 'linear')]\n",
      " 6 | 157537131.5862068832 |     1 | linear       |     10 | [(32, 'linear')]\n",
      " 7 | 162773042.7586206794 |     1 | linear       |     20 | [(32, 'linear')]\n",
      " 8 | 160062372.2482758760 |     1 | linear       |     30 | [(32, 'linear')]\n",
      " 9 | 0.3254800678 |     1 | sigmoid      |     10 | [(32, 'linear')]\n",
      "10 | 0.3530835134 |     1 | sigmoid      |     20 | [(32, 'linear')]\n"
     ]
    }
   ],
   "source": [
    "import matplotlib.pyplot as plt\n",
    "import numpy as np\n",
    "import pandas as pd\n",
    "\n",
    "\n",
    "t = np.load(\"configurations3_linear.npy\", allow_pickle = True)  #ładowanie danych z pliku\n",
    "print(type(t))\n",
    "print(\"dtype:\", t.dtype)\n",
    "print(\"ndim: \", t.ndim)\n",
    "print(\"shape:\", t.shape)\n",
    "print(\"size: \", t.size)\n",
    "#print(t)\n",
    "\n",
    "\n",
    "configurations = np.load(\"configurations3_linear.npy\", allow_pickle = True)\n",
    "\n",
    "print(\"#  | loss           | norm  | out_ac       | epochs | hidden layers \")\n",
    "print(\"----------------------------------------------------------------------------------------\")\n",
    "for i, result in enumerate(configurations):\n",
    "    print(\"{0:2d} | {1:6.10f} | {2:5} | {3:12s} | {4:6d} | {5}\".format(i, result[4], result[0], result[2], result[3], result[1]))\n",
    "    if i == 10:\n",
    "        break\n",
    "\n"
   ]
  },
  {
   "cell_type": "markdown",
   "metadata": {},
   "source": [
    "## Modelowanie danych\n",
    "***\n",
    "#### Wykonujemy cztery modelowania:\n",
    "1. Usuwamy wszystkie wiersze w których wartość straty jest większa od 1 (odchylenia nie powinny przekraczać 1)\n",
    "2. Zliczanie ilości warstw i zastępowanie listy zliczoną wartością\n",
    "3. Zamiana nazw funkcji aktywacji na wartości liczbowe, prostsze do obliczeń\n",
    "4. Zamiana na % oraz skrócenie rozwinięcia dziesiętnego wartości strat"
   ]
  },
  {
   "cell_type": "code",
   "execution_count": 32,
   "metadata": {},
   "outputs": [
    {
     "name": "stdout",
     "output_type": "stream",
     "text": [
      "Tablica danych po usunięciu wyników nieprawidłowych: \n",
      " [[True list([(16, 'linear')]) 'sigmoid' 10 0.32548006778133326]\n",
      " [True list([(16, 'linear')]) 'sigmoid' 20 0.3530835133688203]\n",
      " [True list([(16, 'linear')]) 'sigmoid' 30 0.3530835133688203]\n",
      " ...\n",
      " [True\n",
      "  list([(64, 'linear'), (64, 'linear'), (64, 'linear'), (64, 'linear')])\n",
      "  'sigmoid' 10 0.32548006778133326]\n",
      " [True\n",
      "  list([(64, 'linear'), (64, 'linear'), (64, 'linear'), (64, 'linear')])\n",
      "  'sigmoid' 20 0.3530835133688203]\n",
      " [True\n",
      "  list([(64, 'linear'), (64, 'linear'), (64, 'linear'), (64, 'linear')])\n",
      "  'sigmoid' 30 0.3530835133688203]]\n",
      "Długość tablicy z ukrytymi warstwami:  360\n",
      "Typ activ:  <class 'list'>\n"
     ]
    }
   ],
   "source": [
    "#1 Usuwanie loss>1\n",
    "mask = np.ones(len(t), dtype=bool)\n",
    "i=0\n",
    "while i < len(t): \n",
    "    if(t[i,4] >1):\n",
    "        mask[[i]] = False\n",
    "    i+=1 \n",
    "result = t[mask, ...]\n",
    "print('Tablica danych po usunięciu wyników nieprawidłowych: \\n',result)\n",
    "##########################################################################################\n",
    "#2 Zastępowanie listy ilością warstw\n",
    "hidden = []\n",
    "i=0\n",
    "while i < len(result): \n",
    "    if(len(result[i,1]) ==1):\n",
    "        hidden.append(1)\n",
    "    elif(len(result[i,1]) ==2):\n",
    "        hidden.append(2)\n",
    "    elif(len(result[i,1]) ==3):\n",
    "        hidden.append(3)\n",
    "    elif(len(result[i,1]) ==4):\n",
    "        hidden.append(4)\n",
    "    i+=1\n",
    "print('Długość tablicy z ukrytymi warstwami: ', len(hidden))\n",
    "##########################################################################################\n",
    "#3 Zamiana f aktywacji na wartości 0,1\n",
    "#LINEAR = 0\n",
    "#SIGMOID = 1\n",
    "activ = []\n",
    "\n",
    "i=0\n",
    "while i < len(result): \n",
    "    if(result[i,2] == \"linear\"):\n",
    "        activ.append(0)\n",
    "    elif(result[i,2] == \"sigmoid\"):\n",
    "        activ.append(1)\n",
    "   \n",
    "    i+=1\n",
    "    \n",
    "\n",
    "print('Typ activ: ', type(activ))\n",
    "##########################################################################################\n",
    "#4 Uproszczenie wartości strat\n",
    "loss = []\n",
    "i=0\n",
    "while i<len(result):\n",
    "    if(result[i,4] <= 1): loss.append(float(int(result[i,4]*100)))\n",
    "    i+=1\n",
    "\n",
    "\n",
    "#Utworzenie zmiennych odpowiadających swoim kolumnom\n",
    "norm = result[:,0]\n",
    "epochs = result[:,3]\n"
   ]
  },
  {
   "cell_type": "markdown",
   "metadata": {},
   "source": [
    "## Wykresy zależności parametru loss (straty)\n",
    "***\n",
    "#### Scatter plot z wartości normalizacji oraz strat"
   ]
  },
  {
   "cell_type": "code",
   "execution_count": 15,
   "metadata": {},
   "outputs": [
    {
     "data": {
      "text/plain": [
       "Text(0.5, 0, 'Loss')"
      ]
     },
     "execution_count": 15,
     "metadata": {},
     "output_type": "execute_result"
    },
    {
     "data": {
      "image/png": "[encoded data removed]",
      "text/plain": [
       "<Figure size 432x288 with 1 Axes>"
      ]
     },
     "metadata": {
      "needs_background": "light"
     },
     "output_type": "display_data"
    }
   ],
   "source": [
    "plt.figure()\n",
    "plt.scatter(loss, result[:,0])\n",
    "plt.title('Zależność loss od normalizacji')\n",
    "plt.ylabel('Normalization')\n",
    "plt.xlabel(\"Loss\")\n",
    "\n"
   ]
  },
  {
   "cell_type": "code",
   "execution_count": 16,
   "metadata": {},
   "outputs": [
    {
     "name": "stdout",
     "output_type": "stream",
     "text": [
      "<class 'int'> 360\n"
     ]
    },
    {
     "data": {
      "image/png": "[encoded data removed]",
      "text/plain": [
       "<Figure size 432x288 with 1 Axes>"
      ]
     },
     "metadata": {},
     "output_type": "display_data"
    }
   ],
   "source": [
    "f =0\n",
    "t =0\n",
    "for i in configurations[:,4]:\n",
    "    if i > 1:\n",
    "        f+=1\n",
    "    else:\n",
    "        t+=1\n",
    "print('Typ i długość t,f: ', type(t),f)\n",
    "labels = 'Linear', 'Sigmoid'\n",
    "sizes = [t, f]\n",
    "colors = ['lightcoral', 'yellowgreen']\n",
    "explode = (0, 0)  # explode 1st slice\n",
    "\n",
    "plt.figure()\n",
    "plt.pie(sizes, explode=explode, labels=labels, colors=colors,\n",
    "autopct='%1.1f%%', shadow=True, startangle=140)\n",
    "plt.title('Podział wyników na funkcje aktywacji')\n",
    "plt.show()"
   ]
  },
  {
   "cell_type": "code",
   "execution_count": 33,
   "metadata": {},
   "outputs": [
    {
     "data": {
      "image/png": "[encoded data removed]",
      "text/plain": [
       "<Figure size 432x288 with 1 Axes>"
      ]
     },
     "metadata": {
      "needs_background": "light"
     },
     "output_type": "display_data"
    },
    {
     "data": {
      "image/png": "[encoded data removed]",
      "text/plain": [
       "<Figure size 432x288 with 1 Axes>"
      ]
     },
     "metadata": {
      "needs_background": "light"
     },
     "output_type": "display_data"
    }
   ],
   "source": [
    "plt.figure()\n",
    "plt.hist(loss, bins = 10)\n",
    "plt.title('Wizualizacja frekwencyjności wartości tablicy loss')\n",
    "plt.xlabel('Wartość parametru loss w %')\n",
    "plt.ylabel('Ilość rekordów')\n",
    "plt.show()\n",
    "plt.figure()\n",
    "plt.boxplot(loss)\n",
    "plt.title('Wizualizacja wartości tablicy loss za pomocą boxplota')\n",
    "plt.ylabel('Wartość parametru loss w %')\n",
    "plt.show()"
   ]
  },
  {
   "cell_type": "markdown",
   "metadata": {},
   "source": [
    "# Przygotowanie danych treningowych"
   ]
  },
  {
   "cell_type": "code",
   "execution_count": 18,
   "metadata": {},
   "outputs": [
    {
     "name": "stdout",
     "output_type": "stream",
     "text": [
      "   Norm Epochs  Activ  Hidden  Loss\n",
      "0  True     10      1       1  32.0\n",
      "1  True     20      1       1  35.0\n",
      "2  True     30      1       1  35.0\n",
      "3  True     10      1       1  32.0\n",
      "360\n",
      "360\n"
     ]
    }
   ],
   "source": [
    "from sklearn.model_selection import train_test_split\n",
    "\n",
    "dn = pd.DataFrame(norm)\n",
    "de = pd.DataFrame(epochs)\n",
    "da = pd.DataFrame(activ)\n",
    "dl = pd.DataFrame(loss)\n",
    "dh = pd.DataFrame(hidden)\n",
    "#print (t[:,4].value_counts())\n",
    "\n",
    "df = pd.DataFrame({ \n",
    "    'Norm': norm,\n",
    "    'Epochs': epochs,\n",
    "    'Activ': activ,\n",
    "    'Hidden': hidden,\n",
    "    'Loss': loss})\n",
    "print(df.head(4))\n",
    "\n",
    "x_values =df[['Norm', 'Epochs', 'Activ', 'Hidden']]\n",
    "y_values = df['Loss']\n",
    "print('Wielkość tabeli y_values: ' ,len(y_values))\n",
    "print('Wielkość tabeli x_values: ' , len(x_values))\n",
    "\n",
    "\n",
    "\n",
    "\n",
    "\n"
   ]
  },
  {
   "cell_type": "markdown",
   "metadata": {},
   "source": [
    "# Najlepsze modele posortowane po największej dokładności"
   ]
  },
  {
   "cell_type": "code",
   "execution_count": 34,
   "metadata": {},
   "outputs": [
    {
     "name": "stdout",
     "output_type": "stream",
     "text": [
      "     Norm Epochs  Activ  Hidden  Loss\n",
      "249  True     10      1       4  31.0\n",
      "99   True     10      1       3  31.0\n",
      "0    True     10      1       1  32.0\n",
      "151  True     20      1       4  32.0\n",
      "152  True     30      1       4  32.0\n",
      "79   True     20      1       3  32.0\n",
      "78   True     10      1       3  32.0\n",
      "153  True     10      1       4  32.0\n",
      "154  True     20      1       4  32.0\n",
      "298  True     20      1       4  32.0\n"
     ]
    }
   ],
   "source": [
    "r = pd.DataFrame({ \n",
    "    'Norm': norm,\n",
    "    'Epochs': epochs,\n",
    "    'Activ': activ,\n",
    "    'Hidden': hidden,\n",
    "    'Loss': loss})\n",
    "\n",
    "vis = r.sort_values(by = ['Loss'], ascending = True)\n",
    "print(vis.head(10))\n"
   ]
  },
  {
   "cell_type": "markdown",
   "metadata": {},
   "source": [
    "### Średnie wartości loss w zależności od liczby epoków"
   ]
  },
  {
   "cell_type": "code",
   "execution_count": 35,
   "metadata": {},
   "outputs": [
    {
     "name": "stdout",
     "output_type": "stream",
     "text": [
      "Średni loss gdy epochs = 10:  34.5 %\n",
      "Średni loss gdy epochs = 20:  34.75 %\n",
      "Średni loss gdy epochs = 30:  34.87 %\n"
     ]
    },
    {
     "data": {
      "image/png": "[encoded data removed]",
      "text/plain": [
       "<Figure size 432x288 with 1 Axes>"
      ]
     },
     "metadata": {
      "needs_background": "light"
     },
     "output_type": "display_data"
    }
   ],
   "source": [
    "th = 0.0\n",
    "te = 0.0\n",
    "tw = 0.0\n",
    "hi = 0\n",
    "ei = 0\n",
    "wi = 0\n",
    "i=0\n",
    "while i < len(epochs):\n",
    "    if result[i,3] == 10:\n",
    "        te+= result[i,4]\n",
    "        ei+=1\n",
    "    elif result[i,3] == 20:\n",
    "        tw+= result[i,4]\n",
    "        wi+=1\n",
    "    else: \n",
    "        th+= result[i,4]\n",
    "        hi+=1\n",
    "    i+=1\n",
    "\n",
    "sre =  float(int(te/ei*10000)/100)\n",
    "srw = float(int(tw/wi*10000)/100)\n",
    "srh = float(int(th/hi*10000)/100)\n",
    "print('Średni loss gdy epochs = 10: ', sre, '%')\n",
    "print('Średni loss gdy epochs = 20: ', srw, '%')\n",
    "print('Średni loss gdy epochs = 30: ', srh, '%')\n",
    "\n",
    "plt.figure()\n",
    "plt.plot([sre,sre,srh], [10,20,30], c = 'g')\n",
    "plt.title('Zależność loss od liczby epoków')\n",
    "plt.show()"
   ]
  },
  {
   "cell_type": "markdown",
   "metadata": {},
   "source": [
    "### Średnie wartości loss w zależności od ilości warstw"
   ]
  },
  {
   "cell_type": "code",
   "execution_count": 36,
   "metadata": {},
   "outputs": [
    {
     "name": "stdout",
     "output_type": "stream",
     "text": [
      "Średni loss gdy jest 1 ukryta warstwa  34.5 %\n",
      "Średni loss gdy są 2 ukryte warstwy  34.75 %\n",
      "Średni loss gdy są 3 ukryte warstwy  34.87 %\n",
      "Średni loss gdy są 4 ukryte warstwy  34.87 %\n"
     ]
    },
    {
     "data": {
      "image/png": "[encoded data removed]",
      "text/plain": [
       "<Figure size 432x288 with 1 Axes>"
      ]
     },
     "metadata": {
      "needs_background": "light"
     },
     "output_type": "display_data"
    }
   ],
   "source": [
    "one = 0.0\n",
    "two = 0.0\n",
    "three = 0.0\n",
    "four = 0.0\n",
    "ione = 0\n",
    "itwo = 0\n",
    "ithree = 0\n",
    "ifour =0\n",
    "\n",
    "i=0\n",
    "while i < len(hidden):\n",
    "    if result[i,1] == 1:\n",
    "        one+= result[i,4]\n",
    "        ione+=1\n",
    "    elif result[i,1] == 2:\n",
    "        two+= result[i,4]\n",
    "        itwo+=1\n",
    "    elif result[i,1] == 3:\n",
    "        three+= result[i,4]\n",
    "        ithree+=1\n",
    "    else: \n",
    "        four+= result[i,4]\n",
    "        ifour+=1\n",
    "    i+=1\n",
    "\n",
    "srone =  float(int(te/ei*10000)/100)\n",
    "srtwo = float(int(tw/wi*10000)/100)\n",
    "srthree = float(int(th/hi*10000)/100)\n",
    "srfour = float(int(th/hi*10000)/100)\n",
    "print('Średni loss gdy jest 1 ukryta warstwa ', srone, '%')\n",
    "print('Średni loss gdy są 2 ukryte warstwy ', srtwo, '%')\n",
    "print('Średni loss gdy są 3 ukryte warstwy ', srthree, '%')\n",
    "print('Średni loss gdy są 4 ukryte warstwy ', srfour, '%')\n",
    "\n",
    "\n",
    "plt.figure()\n",
    "plt.scatter([srone,srtwo,srthree, srfour], [1,2,3,4], c = 'g')\n",
    "plt.title('Zależność loss od liczby warstw')\n",
    "plt.show()"
   ]
  },
  {
   "cell_type": "code",
   "execution_count": 22,
   "metadata": {},
   "outputs": [],
   "source": [
    "x_train, x_test, y_train, y_test = train_test_split(x_values,y_values,test_size=0.25,random_state=10)"
   ]
  },
  {
   "cell_type": "code",
   "execution_count": 23,
   "metadata": {},
   "outputs": [
    {
     "name": "stdout",
     "output_type": "stream",
     "text": [
      "[[ 0.         -0.00907256  0.         -2.10213779]\n",
      " [ 0.         -1.23386783  0.         -0.75397341]\n",
      " [ 0.         -0.00907256  0.          0.59419097]\n",
      " ...\n",
      " [ 0.         -1.23386783  0.         -2.10213779]\n",
      " [ 0.          1.21572272  0.          0.59419097]\n",
      " [ 0.         -0.00907256  0.          0.59419097]]\n"
     ]
    },
    {
     "name": "stderr",
     "output_type": "stream",
     "text": [
      "/opt/conda/lib/python3.6/site-packages/sklearn/preprocessing/data.py:625: DataConversionWarning: Data with input dtype int64, object were all converted to float64 by StandardScaler.\n",
      "  return self.partial_fit(X, y)\n",
      "/opt/conda/lib/python3.6/site-packages/sklearn/base.py:462: DataConversionWarning: Data with input dtype int64, object were all converted to float64 by StandardScaler.\n",
      "  return self.fit(X, **fit_params).transform(X)\n",
      "/opt/conda/lib/python3.6/site-packages/ipykernel_launcher.py:7: DataConversionWarning: Data with input dtype int64, object were all converted to float64 by StandardScaler.\n",
      "  import sys\n"
     ]
    }
   ],
   "source": [
    "from sklearn.preprocessing import StandardScaler\n",
    "from sklearn.neighbors import KNeighborsClassifier\n",
    "from sklearn import tree\n",
    "\n",
    "scaler = StandardScaler()\n",
    "x_train_scale = scaler.fit_transform(x_train)\n",
    "x_test_scale = scaler.transform(x_test)\n",
    "print(x_train_scale)\n",
    "\n"
   ]
  },
  {
   "cell_type": "markdown",
   "metadata": {},
   "source": [
    "# Trening na podstawie KNN"
   ]
  },
  {
   "cell_type": "code",
   "execution_count": 24,
   "metadata": {},
   "outputs": [
    {
     "name": "stdout",
     "output_type": "stream",
     "text": [
      "[0.7777777777777778, 0.7555555555555555, 0.7888888888888889, 0.7888888888888889, 0.8111111111111111, 0.8111111111111111, 0.8, 0.6666666666666666, 0.8, 0.8, 0.8, 0.8, 0.8, 0.8, 0.8, 0.8, 0.8, 0.8, 0.8, 0.8, 0.8, 0.8, 0.8, 0.8, 0.8, 0.8, 0.8, 0.8, 0.8, 0.8, 0.8, 0.8, 0.8, 0.8, 0.8, 0.8, 0.8, 0.8, 0.8, 0.8, 0.8, 0.8, 0.8, 0.8, 0.8, 0.8, 0.8, 0.8, 0.8, 0.8, 0.8, 0.8, 0.8, 0.8, 0.8, 0.8, 0.8, 0.8, 0.8]\n"
     ]
    }
   ],
   "source": [
    "# Create an empty list to store the accuracy and number of neighbours for each KNN model\n",
    "accuracy = []\n",
    "num_neigh = []\n",
    "\n",
    "# Use ii to cycle through values 1 to 15. This will be the number of neighbours for the KNN classifier. \n",
    "for ii in range(1,60):\n",
    "    # Set number of neighbours to ii\n",
    "    KNN = KNeighborsClassifier(n_neighbors=ii)\n",
    "    # Training or fitting the model with the data\n",
    "    KNN.fit(x_train_scale,y_train)\n",
    "    # .score provides the accuracy of the model based on the testing data. Store the accuracy into the list.\n",
    "    accuracy.append(KNN.score(x_test_scale,y_test))\n",
    "    # Append the number of neighbours to a list\n",
    "    num_neigh.append(ii)\n",
    "\n",
    "print(accuracy)"
   ]
  },
  {
   "cell_type": "code",
   "execution_count": 37,
   "metadata": {},
   "outputs": [
    {
     "data": {
      "image/png": "[encoded data removed]",
      "text/plain": [
       "<Figure size 432x288 with 1 Axes>"
      ]
     },
     "metadata": {
      "needs_background": "light"
     },
     "output_type": "display_data"
    }
   ],
   "source": [
    "plt.scatter(num_neigh,accuracy)\n",
    "plt.xlabel('Liczba sąsiadów')\n",
    "plt.ylabel('Dokładność')\n",
    "plt.title('Dokładność w zależności od ilości sąsiadów')\n",
    "plt.show();"
   ]
  },
  {
   "cell_type": "code",
   "execution_count": 39,
   "metadata": {},
   "outputs": [],
   "source": [
    "KNN = KNeighborsClassifier(n_neighbors=14)\n",
    "KNN = KNN.fit(x_train_scale,y_train)"
   ]
  },
  {
   "cell_type": "code",
   "execution_count": 40,
   "metadata": {},
   "outputs": [
    {
     "name": "stdout",
     "output_type": "stream",
     "text": [
      "[35. 35. 35. 35. 35. 35. 35. 35. 35. 35. 35. 35. 35. 35. 35. 35. 35. 35.\n",
      " 35. 35. 35. 35. 35. 35. 35. 35. 35. 35. 35. 35. 35. 35. 35. 35. 35. 35.\n",
      " 35. 35. 35. 35. 35. 35. 35. 35. 35. 35. 35. 35. 35. 35. 35. 35. 35. 35.\n",
      " 35. 35. 35. 35. 35. 35. 35. 35. 35. 35. 35. 35. 35. 35. 35. 35. 35. 35.\n",
      " 35. 35. 35. 35. 35. 35. 35. 35. 35. 35. 35. 35. 35. 35. 35. 35. 35. 35.]\n",
      "float64\n"
     ]
    }
   ],
   "source": [
    "y_predict = KNN.predict(x_test_scale)\n",
    "print(y_predict)\n",
    "print(y_predict.dtype)"
   ]
  },
  {
   "cell_type": "code",
   "execution_count": 41,
   "metadata": {},
   "outputs": [
    {
     "name": "stdout",
     "output_type": "stream",
     "text": [
      "[[ 0 18]\n",
      " [ 0 72]]\n"
     ]
    }
   ],
   "source": [
    "from sklearn.metrics import confusion_matrix  \n",
    "print(confusion_matrix(y_test, y_predict))  "
   ]
  },
  {
   "cell_type": "markdown",
   "metadata": {},
   "source": [
    "# Wizualizacja dokładności za pomocą heatmapy"
   ]
  },
  {
   "cell_type": "code",
   "execution_count": 43,
   "metadata": {},
   "outputs": [
    {
     "data": {
      "text/plain": [
       "<matplotlib.axes._subplots.AxesSubplot at 0x7f97d1409048>"
      ]
     },
     "execution_count": 43,
     "metadata": {},
     "output_type": "execute_result"
    },
    {
     "data": {
      "image/png": "[encoded data removed]",
      "text/plain": [
       "<Figure size 720x720 with 2 Axes>"
      ]
     },
     "metadata": {
      "needs_background": "light"
     },
     "output_type": "display_data"
    }
   ],
   "source": [
    "import seaborn as sns\n",
    "\n",
    "# Tworzenie nowego dataframe\n",
    "df = pd.DataFrame()\n",
    "\n",
    "# Tworzenie nowych kolumn z dataframe\n",
    "df['Actual'] = y_test\n",
    "df['Predicted'] = y_predict\n",
    "\n",
    "freq, ax = plt.subplots(figsize=(10,10)) \n",
    "freq = pd.crosstab(df.Actual,df.Predicted)\n",
    "sns.heatmap(freq,annot=True,fmt=\"d\", ax = ax)"
   ]
  },
  {
   "cell_type": "markdown",
   "metadata": {},
   "source": [
    "# Input testowy dla użytkownika przewidujący wartość parametru loss"
   ]
  },
  {
   "cell_type": "code",
   "execution_count": null,
   "metadata": {},
   "outputs": [],
   "source": [
    "test = pd.DataFrame()\n",
    "KNN2 = KNeighborsClassifier(n_neighbors=30)\n",
    "KNN2 = KNN.fit(x_train_scale,y_train)\n",
    "\n",
    "test['Norm']= [input('Normalizacja (1 or 0): ')]\n",
    "test['Epochs']= [input('Liczba epoków (10,20,30): ')]\n",
    "test['Activ']=[input('Funkcja akrywacji (linear = 0, sigmoid = 1): ')]\n",
    "test['Hidden']= [input('Liczba ukrytych warstw (1, 2,3,4): ' )]\n",
    "\n",
    "predict_test2= KNN2.predict(test)\n",
    "print('Predicted loss: ',predict_test2, '%')\n"
   ]
  },
  {
   "cell_type": "code",
   "execution_count": null,
   "metadata": {},
   "outputs": [],
   "source": []
  }
 ],
 "metadata": {
  "kernelspec": {
   "display_name": "Python 3",
   "language": "python",
   "name": "python3"
  },
  "language_info": {
   "codemirror_mode": {
    "name": "ipython",
    "version": 3
   },
   "file_extension": ".py",
   "mimetype": "text/x-python",
   "name": "python",
   "nbconvert_exporter": "python",
   "pygments_lexer": "ipython3",
   "version": "3.6.8"
  }
 },
 "nbformat": 4,
 "nbformat_minor": 4
}
