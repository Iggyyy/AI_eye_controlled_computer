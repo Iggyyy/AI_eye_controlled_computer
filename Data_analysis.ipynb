{
 "cells": [
  {
   "cell_type": "code",
   "execution_count": 270,
   "metadata": {},
   "outputs": [
    {
     "name": "stdout",
     "output_type": "stream",
     "text": [
      "<class 'numpy.ndarray'>\n",
      "dtype: object\n",
      "ndim:  2\n",
      "shape: (1404, 5)\n",
      "size:  7020\n",
      "#  | loss           | norm  | out_ac       | epochs | hidden layers |\n",
      " 0 | 582.8112925142 |     0 | linear       |     10 | [(16, 'relu'), (16, 'relu')]\n",
      " 1 | 256.1239753383 |     0 | linear       |     30 | [(16, 'relu'), (16, 'relu')]\n"
     ]
    }
   ],
   "source": [
    "import matplotlib.pyplot as plt\n",
    "import numpy as np\n",
    "import pandas as pd\n",
    "\n",
    "t = np.load(\"configurations_all.npy\", allow_pickle = True)\n",
    "print(type(t))\n",
    "print(\"dtype:\", t.dtype)\n",
    "print(\"ndim: \", t.ndim)\n",
    "print(\"shape:\", t.shape)\n",
    "print(\"size: \", t.size)\n",
    "#print(t)\n",
    "\n",
    "\n",
    "configurations = np.load(\"configurations_all.npy\", allow_pickle = True)\n",
    "\n",
    "print(\"#  | loss           | norm  | out_ac       | epochs | hidden layers |\")\n",
    "#print(\"--------------------------------------------------\")\n",
    "for i, result in enumerate(configurations):\n",
    "    print(\"{0:2d} | {1:6.10f} | {2:5} | {3:12s} | {4:6d} | {5}\".format(i, result[4], result[0], result[2], result[3], result[1]))\n",
    "    #print(\"{0:2d} | {2:5} | {5} | {3:12s} | {4:6d} | {1:6.10f}\".format(i, result[0], result[1], result[2], result[3], result[4]))\n",
    "    if i == 1:\n",
    "        break\n",
    "\n",
    "\n",
    "\n",
    "\n",
    "\n",
    "#plt.hist(t['norm'],bins=5)\n",
    "#plt.title('Absences')\n"
   ]
  },
  {
   "cell_type": "markdown",
   "metadata": {},
   "source": [
    "# Modelowanie danych \n"
   ]
  },
  {
   "cell_type": "code",
   "execution_count": 271,
   "metadata": {},
   "outputs": [
    {
     "name": "stdout",
     "output_type": "stream",
     "text": [
      "[[False list([(16, 'relu'), (16, 'relu')]) 'sigmoid' 10\n",
      "  0.3220518672292474]\n",
      " [False list([(16, 'relu'), (16, 'relu')]) 'sigmoid' 30\n",
      "  0.3220518672292474]\n",
      " [False list([(16, 'relu'), (16, 'relu')]) 'sigmoid' 60\n",
      "  0.3220518672292474]\n",
      " ...\n",
      " [True list([(64, 'relu'), (64, 'relu'), (64, 'relu'), (64, 'relu')])\n",
      "  'sigmoid' 10 0.16672395462436335]\n",
      " [True list([(64, 'relu'), (64, 'relu'), (64, 'relu'), (64, 'relu')])\n",
      "  'sigmoid' 30 0.16672395462436335]\n",
      " [True list([(64, 'relu'), (64, 'relu'), (64, 'relu'), (64, 'relu')])\n",
      "  'sigmoid' 60 0.16672395462436335]]\n"
     ]
    }
   ],
   "source": [
    "#MODELING WHICH REMOVES ALL ROWS WHERE LOSS WAS HIGHER THAN 1\n",
    "mask = np.ones(len(t), dtype=bool)\n",
    "\n",
    "\n",
    "i=0\n",
    "while i < len(t): \n",
    "    if(t[i,4] >1):\n",
    "        mask[[i]] = False\n",
    "    i+=1\n",
    "    \n",
    "    \n",
    "result = t[mask, ...]\n",
    "print(result)"
   ]
  },
  {
   "cell_type": "code",
   "execution_count": 272,
   "metadata": {},
   "outputs": [
    {
     "name": "stdout",
     "output_type": "stream",
     "text": [
      "1100\n"
     ]
    }
   ],
   "source": [
    "#MODELING WHICH COUNTS HOW MANY HIDDEN ARRAYS WERE IN THE TEST \n",
    "hidden = []\n",
    "i=0\n",
    "while i < len(result): \n",
    "    if(len(result[i,1]) ==1):\n",
    "        hidden.append(1)\n",
    "    elif(len(result[i,1]) ==2):\n",
    "        hidden.append(2)\n",
    "    elif(len(result[i,1]) ==3):\n",
    "        hidden.append(3)\n",
    "    elif(len(result[i,1]) ==4):\n",
    "        hidden.append(4)\n",
    "    i+=1\n",
    "print(len(hidden))"
   ]
  },
  {
   "cell_type": "code",
   "execution_count": 273,
   "metadata": {},
   "outputs": [
    {
     "name": "stdout",
     "output_type": "stream",
     "text": [
      "<class 'list'>\n"
     ]
    }
   ],
   "source": [
    "#MODELING CHANGING VALUE OF NORM LABEL FROM STRING TO 0,1 \n",
    "#LINEAR = 0\n",
    "#SIGMOID = 1\n",
    "activ = []\n",
    "\n",
    "i=0\n",
    "while i < len(result): \n",
    "    if(result[i,2] == \"linear\"):\n",
    "        activ.append(0)\n",
    "    elif(result[i,2] == \"sigmoid\"):\n",
    "        activ.append(1)\n",
    "   \n",
    "    i+=1\n",
    "    \n",
    "\n",
    "print(type(activ))\n"
   ]
  },
  {
   "cell_type": "code",
   "execution_count": 274,
   "metadata": {},
   "outputs": [],
   "source": [
    "loss = []\n",
    "i=0\n",
    "while i<len(result):\n",
    "    loss.append(float(int(result[i,4]*100)))\n",
    "    i+=1\n"
   ]
  },
  {
   "cell_type": "markdown",
   "metadata": {},
   "source": [
    "# Wykresy zależności parametru loss od kilku wartości"
   ]
  },
  {
   "cell_type": "code",
   "execution_count": 319,
   "metadata": {},
   "outputs": [
    {
     "name": "stdout",
     "output_type": "stream",
     "text": [
      "['sigmoid' 'sigmoid' 'sigmoid' ... 'sigmoid' 'sigmoid' 'sigmoid']\n"
     ]
    },
    {
     "data": {
      "text/plain": [
       "Text(0, 0.5, 'Loss')"
      ]
     },
     "execution_count": 319,
     "metadata": {},
     "output_type": "execute_result"
    },
    {
     "data": {
      "image/png": "[encoded data removed]",
      "text/plain": [
       "<Figure size 432x288 with 1 Axes>"
      ]
     },
     "metadata": {
      "needs_background": "light"
     },
     "output_type": "display_data"
    }
   ],
   "source": [
    "#CREATING SOME ARRAYS WITH VAL\n",
    "#loss = result[:,4]\n",
    "norm = result[:,0]\n",
    "epochs = result[:,3]\n",
    "#activ = result[:,2]\n",
    "\n",
    "#print(loss)\n",
    "#print(norm)\n",
    "\n",
    "#fig, axs = plt.subplots(1,2,figsize = (9,2), sharey = True)\n",
    "#axs[0].scatter(norm, loss)\n",
    "#fig.suptitle('NormToLoss')\n",
    "\n",
    "plt.figure()\n",
    "plt.scatter(result[:,2], loss)\n",
    "plt.title('Zależność loss od normalizacji')\n",
    "plt.xlabel('Normalization')\n",
    "plt.ylabel(\"Loss\")\n"
   ]
  },
  {
   "cell_type": "code",
   "execution_count": 276,
   "metadata": {},
   "outputs": [
    {
     "data": {
      "text/plain": [
       "Text(0.5, 1.0, 'epochs to loss')"
      ]
     },
     "execution_count": 276,
     "metadata": {},
     "output_type": "execute_result"
    },
    {
     "data": {
      "image/png": "[encoded data removed]",
      "text/plain": [
       "<Figure size 432x288 with 1 Axes>"
      ]
     },
     "metadata": {
      "needs_background": "light"
     },
     "output_type": "display_data"
    }
   ],
   "source": [
    "plt.figure()\n",
    "plt.scatter(epochs, loss)\n",
    "plt.title('epochs to loss')\n"
   ]
  },
  {
   "cell_type": "code",
   "execution_count": 277,
   "metadata": {},
   "outputs": [
    {
     "data": {
      "text/plain": [
       "Text(0.5, 1.0, 'function of activation to loss')"
      ]
     },
     "execution_count": 277,
     "metadata": {},
     "output_type": "execute_result"
    },
    {
     "data": {
      "image/png": "[encoded data removed]",
      "text/plain": [
       "<Figure size 432x288 with 1 Axes>"
      ]
     },
     "metadata": {
      "needs_background": "light"
     },
     "output_type": "display_data"
    }
   ],
   "source": [
    "plt.figure()\n",
    "plt.scatter(activ, loss)\n",
    "plt.title('function of activation to loss')"
   ]
  },
  {
   "cell_type": "code",
   "execution_count": 313,
   "metadata": {},
   "outputs": [
    {
     "data": {
      "image/png": "[encoded data removed]",
      "text/plain": [
       "<Figure size 432x288 with 1 Axes>"
      ]
     },
     "metadata": {
      "needs_background": "light"
     },
     "output_type": "display_data"
    },
    {
     "data": {
      "image/png": "[encoded data removed]",
      "text/plain": [
       "<Figure size 432x288 with 1 Axes>"
      ]
     },
     "metadata": {
      "needs_background": "light"
     },
     "output_type": "display_data"
    }
   ],
   "source": [
    "plt.figure()\n",
    "plt.hist(loss, bins = 3)\n",
    "plt.show()\n",
    "plt.figure()\n",
    "plt.boxplot(loss)\n",
    "plt.show()"
   ]
  },
  {
   "cell_type": "markdown",
   "metadata": {},
   "source": [
    "# Przygotowanie danych treningowych"
   ]
  },
  {
   "cell_type": "code",
   "execution_count": 279,
   "metadata": {},
   "outputs": [
    {
     "name": "stdout",
     "output_type": "stream",
     "text": [
      "    Norm Epochs  Activ  Hidden  Loss\n",
      "0  False     10      1       2  32.0\n",
      "1  False     30      1       2  32.0\n",
      "2  False     60      1       2  32.0\n",
      "3  False     10      1       2  31.0\n",
      "1100\n",
      "1100\n"
     ]
    }
   ],
   "source": [
    "from sklearn.model_selection import train_test_split\n",
    "\n",
    "dn = pd.DataFrame(norm)\n",
    "de = pd.DataFrame(epochs)\n",
    "da = pd.DataFrame(activ)\n",
    "dl = pd.DataFrame(loss)\n",
    "dh = pd.DataFrame(hidden)\n",
    "#print (t[:,4].value_counts())\n",
    "\n",
    "df = pd.DataFrame({ \n",
    "    'Norm': norm,\n",
    "    'Epochs': epochs,\n",
    "    'Activ': activ,\n",
    "    'Hidden': hidden,\n",
    "    'Loss': loss})\n",
    "print(df.head(4))\n",
    "\n",
    "x_values =df[['Norm', 'Epochs', 'Activ', 'Hidden']]\n",
    "y_values = df['Loss']\n",
    "print(len(y_values))\n",
    "print(len(x_values))\n",
    "\n",
    "\n",
    "\n",
    "\n",
    "\n"
   ]
  },
  {
   "cell_type": "markdown",
   "metadata": {},
   "source": [
    "# Najlepsze modele posortowane po największej dokładności"
   ]
  },
  {
   "cell_type": "code",
   "execution_count": 296,
   "metadata": {},
   "outputs": [
    {
     "name": "stdout",
     "output_type": "stream",
     "text": [
      "      Norm Epochs  Activ                                            Hidden  \\\n",
      "211  False     60      0  [(32, relu), (16, relu), (16, relu), (32, relu)]   \n",
      "314  False     60      0  [(64, relu), (16, relu), (32, relu), (64, relu)]   \n",
      "702   True     30      1  [(16, relu), (32, relu), (32, relu), (64, relu)]   \n",
      "703   True     60      1  [(16, relu), (32, relu), (32, relu), (64, relu)]   \n",
      "713   True     10      1  [(16, relu), (32, relu), (64, relu), (32, relu)]   \n",
      "714   True     30      1  [(16, relu), (32, relu), (64, relu), (32, relu)]   \n",
      "715   True     60      1  [(16, relu), (32, relu), (64, relu), (32, relu)]   \n",
      "719   True     10      1  [(16, relu), (32, relu), (64, relu), (64, relu)]   \n",
      "720   True     30      1  [(16, relu), (32, relu), (64, relu), (64, relu)]   \n",
      "721   True     60      1  [(16, relu), (32, relu), (64, relu), (64, relu)]   \n",
      "725   True     10      1  [(16, relu), (64, relu), (16, relu), (16, relu)]   \n",
      "726   True     30      1  [(16, relu), (64, relu), (16, relu), (16, relu)]   \n",
      "727   True     60      1  [(16, relu), (64, relu), (16, relu), (16, relu)]   \n",
      "731   True     10      1  [(16, relu), (64, relu), (16, relu), (32, relu)]   \n",
      "732   True     30      1  [(16, relu), (64, relu), (16, relu), (32, relu)]   \n",
      "733   True     60      1  [(16, relu), (64, relu), (16, relu), (32, relu)]   \n",
      "737   True     10      1  [(16, relu), (64, relu), (16, relu), (64, relu)]   \n",
      "738   True     30      1  [(16, relu), (64, relu), (16, relu), (64, relu)]   \n",
      "739   True     60      1  [(16, relu), (64, relu), (16, relu), (64, relu)]   \n",
      "701   True     10      1  [(16, relu), (32, relu), (32, relu), (64, relu)]   \n",
      "\n",
      "     Loss  \n",
      "211  12.0  \n",
      "314  13.0  \n",
      "702  16.0  \n",
      "703  16.0  \n",
      "713  16.0  \n",
      "714  16.0  \n",
      "715  16.0  \n",
      "719  16.0  \n",
      "720  16.0  \n",
      "721  16.0  \n",
      "725  16.0  \n",
      "726  16.0  \n",
      "727  16.0  \n",
      "731  16.0  \n",
      "732  16.0  \n",
      "733  16.0  \n",
      "737  16.0  \n",
      "738  16.0  \n",
      "739  16.0  \n",
      "701  16.0  \n"
     ]
    }
   ],
   "source": [
    "r = pd.DataFrame({ \n",
    "    'Norm': norm,\n",
    "    'Epochs': epochs,\n",
    "    'Activ': activ,\n",
    "    'Hidden': result[:,1],\n",
    "    'Loss': loss})\n",
    "\n",
    "vis = r.sort_values(by = ['Loss'], ascending = True)\n",
    "print(vis.head(20))"
   ]
  },
  {
   "cell_type": "code",
   "execution_count": 281,
   "metadata": {},
   "outputs": [],
   "source": [
    "x_train, x_test, y_train, y_test = train_test_split(x_values,y_values,test_size=0.25,random_state=10)"
   ]
  },
  {
   "cell_type": "code",
   "execution_count": 282,
   "metadata": {},
   "outputs": [
    {
     "name": "stdout",
     "output_type": "stream",
     "text": [
      "[[-1.31597419 -0.2223119  -1.35105235  0.62015564]\n",
      " [-1.31597419 -1.19016055  0.74016377 -1.00406152]\n",
      " [ 0.75989332 -1.19016055  0.74016377  0.62015564]\n",
      " ...\n",
      " [ 0.75989332 -0.2223119   0.74016377  0.62015564]\n",
      " [ 0.75989332  1.22946107  0.74016377  0.62015564]\n",
      " [ 0.75989332 -1.19016055  0.74016377 -1.00406152]]\n"
     ]
    },
    {
     "name": "stderr",
     "output_type": "stream",
     "text": [
      "/opt/conda/lib/python3.6/site-packages/sklearn/preprocessing/data.py:625: DataConversionWarning: Data with input dtype int64, object were all converted to float64 by StandardScaler.\n",
      "  return self.partial_fit(X, y)\n",
      "/opt/conda/lib/python3.6/site-packages/sklearn/base.py:462: DataConversionWarning: Data with input dtype int64, object were all converted to float64 by StandardScaler.\n",
      "  return self.fit(X, **fit_params).transform(X)\n",
      "/opt/conda/lib/python3.6/site-packages/ipykernel_launcher.py:7: DataConversionWarning: Data with input dtype int64, object were all converted to float64 by StandardScaler.\n",
      "  import sys\n"
     ]
    }
   ],
   "source": [
    "from sklearn.preprocessing import StandardScaler\n",
    "from sklearn.neighbors import KNeighborsClassifier\n",
    "from sklearn import tree\n",
    "\n",
    "scaler = StandardScaler()\n",
    "x_train_scale = scaler.fit_transform(x_train)\n",
    "x_test_scale = scaler.transform(x_test)\n",
    "print(x_train_scale)\n",
    "\n"
   ]
  },
  {
   "cell_type": "markdown",
   "metadata": {},
   "source": [
    "# Trening na podstawie KNN"
   ]
  },
  {
   "cell_type": "code",
   "execution_count": 283,
   "metadata": {},
   "outputs": [
    {
     "name": "stdout",
     "output_type": "stream",
     "text": [
      "[0.32727272727272727, 0.31636363636363635, 0.32727272727272727, 0.32, 0.3054545454545455, 0.3381818181818182, 0.33090909090909093, 0.34545454545454546, 0.3418181818181818, 0.3563636363636364, 0.3527272727272727, 0.3418181818181818, 0.36363636363636365, 0.3563636363636364, 0.3527272727272727, 0.38181818181818183, 0.3709090909090909, 0.37454545454545457, 0.39636363636363636, 0.36363636363636365, 0.3709090909090909, 0.3709090909090909, 0.38545454545454544, 0.4036363636363636, 0.4036363636363636, 0.4072727272727273, 0.4072727272727273, 0.4109090909090909, 0.4072727272727273, 0.4218181818181818, 0.41818181818181815, 0.4218181818181818, 0.41818181818181815, 0.3927272727272727, 0.4218181818181818, 0.4218181818181818, 0.4218181818181818, 0.41454545454545455, 0.41454545454545455, 0.4072727272727273, 0.4218181818181818, 0.41454545454545455, 0.41454545454545455, 0.4072727272727273, 0.4109090909090909, 0.4072727272727273, 0.4109090909090909, 0.41818181818181815, 0.4072727272727273, 0.41818181818181815, 0.41818181818181815, 0.4254545454545455, 0.4254545454545455, 0.4254545454545455, 0.4254545454545455, 0.4254545454545455, 0.4254545454545455, 0.4254545454545455, 0.4254545454545455]\n"
     ]
    }
   ],
   "source": [
    "# Create an empty list to store the accuracy and number of neighbours for each KNN model\n",
    "accuracy = []\n",
    "num_neigh = []\n",
    "\n",
    "# Use ii to cycle through values 1 to 15. This will be the number of neighbours for the KNN classifier. \n",
    "for ii in range(1,60):\n",
    "    # Set number of neighbours to ii\n",
    "    KNN = KNeighborsClassifier(n_neighbors=ii)\n",
    "    # Training or fitting the model with the data\n",
    "    KNN.fit(x_train_scale,y_train)\n",
    "    # .score provides the accuracy of the model based on the testing data. Store the accuracy into the list.\n",
    "    accuracy.append(KNN.score(x_test_scale,y_test))\n",
    "    # Append the number of neighbours to a list\n",
    "    num_neigh.append(ii)\n",
    "\n",
    "print(accuracy)"
   ]
  },
  {
   "cell_type": "code",
   "execution_count": 284,
   "metadata": {},
   "outputs": [
    {
     "data": {
      "image/png": "[encoded data removed]",
      "text/plain": [
       "<Figure size 432x288 with 1 Axes>"
      ]
     },
     "metadata": {
      "needs_background": "light"
     },
     "output_type": "display_data"
    }
   ],
   "source": [
    "plt.scatter(num_neigh,accuracy)\n",
    "plt.xlabel('Number of neighbours')\n",
    "plt.ylabel('Accuracy')\n",
    "plt.show();"
   ]
  },
  {
   "cell_type": "code",
   "execution_count": 285,
   "metadata": {},
   "outputs": [],
   "source": [
    "KNN = KNeighborsClassifier(n_neighbors=30)\n",
    "KNN = KNN.fit(x_train_scale,y_train)"
   ]
  },
  {
   "cell_type": "code",
   "execution_count": 286,
   "metadata": {},
   "outputs": [
    {
     "name": "stdout",
     "output_type": "stream",
     "text": [
      "[16. 35. 39. 37. 16. 39. 16. 29. 29. 16. 16. 35. 16. 39. 16. 39. 37. 39.\n",
      " 35. 17. 16. 16. 42. 35. 16. 39. 39. 39. 35. 39. 16. 16. 16. 16. 36. 36.\n",
      " 39. 19. 39. 39. 35. 16. 39. 37. 35. 39. 29. 39. 39. 19. 39. 39. 39. 37.\n",
      " 16. 19. 42. 16. 35. 31. 39. 16. 39. 39. 16. 39. 39. 39. 29. 42. 16. 37.\n",
      " 16. 35. 42. 39. 16. 39. 39. 16. 37. 37. 29. 39. 39. 39. 39. 16. 16. 40.\n",
      " 39. 39. 39. 39. 39. 40. 35. 16. 39. 37. 39. 37. 16. 36. 35. 16. 16. 16.\n",
      " 37. 37. 39. 16. 19. 39. 16. 42. 39. 39. 39. 37. 39. 39. 16. 37. 39. 16.\n",
      " 39. 39. 39. 40. 39. 39. 39. 16. 16. 42. 39. 16. 39. 16. 16. 39. 42. 39.\n",
      " 16. 39. 16. 35. 19. 39. 16. 37. 39. 39. 19. 39. 16. 39. 36. 39. 16. 39.\n",
      " 39. 39. 42. 39. 16. 19. 16. 16. 16. 19. 16. 39. 40. 39. 39. 39. 16. 16.\n",
      " 16. 39. 16. 37. 16. 29. 40. 39. 39. 39. 16. 39. 19. 39. 39. 16. 31. 39.\n",
      " 37. 16. 39. 16. 16. 19. 37. 16. 36. 29. 16. 16. 29. 16. 16. 16. 39. 16.\n",
      " 16. 17. 39. 19. 39. 16. 37. 16. 39. 16. 39. 16. 39. 37. 35. 39. 16. 39.\n",
      " 16. 16. 29. 39. 19. 39. 39. 42. 39. 16. 16. 39. 39. 16. 16. 16. 39. 16.\n",
      " 16. 39. 39. 39. 16. 42. 39. 37. 37. 37. 19. 39. 39. 16. 40. 37. 35. 16.\n",
      " 39. 37. 29. 39. 39.]\n",
      "float64\n"
     ]
    }
   ],
   "source": [
    "y_predict = KNN.predict(x_test_scale)\n",
    "print(y_predict)\n",
    "print(y_predict.dtype)"
   ]
  },
  {
   "cell_type": "code",
   "execution_count": 287,
   "metadata": {},
   "outputs": [
    {
     "name": "stdout",
     "output_type": "stream",
     "text": [
      "[[ 0  0  0 ...  0  0  0]\n",
      " [ 0 65  0 ...  0  0  0]\n",
      " [ 0 19  2 ...  0  0  0]\n",
      " ...\n",
      " [ 0  0  0 ...  0  0  0]\n",
      " [ 0  0  0 ...  0  0  0]\n",
      " [ 0  0  0 ...  0  0  0]]\n"
     ]
    }
   ],
   "source": [
    "from sklearn.metrics import confusion_matrix  \n",
    "print(confusion_matrix(y_test, y_predict))  "
   ]
  },
  {
   "cell_type": "markdown",
   "metadata": {},
   "source": [
    "# Wizualizacja dokładności za pomocą heatmapy"
   ]
  },
  {
   "cell_type": "code",
   "execution_count": 288,
   "metadata": {},
   "outputs": [
    {
     "data": {
      "text/plain": [
       "<matplotlib.axes._subplots.AxesSubplot at 0x7fd941114630>"
      ]
     },
     "execution_count": 288,
     "metadata": {},
     "output_type": "execute_result"
    },
    {
     "data": {
      "image/png": "[encoded data removed]",
      "text/plain": [
       "<Figure size 720x720 with 2 Axes>"
      ]
     },
     "metadata": {
      "needs_background": "light"
     },
     "output_type": "display_data"
    }
   ],
   "source": [
    "import seaborn as sns\n",
    "\n",
    "# Create new dataframe\n",
    "df = pd.DataFrame()\n",
    "\n",
    "# Create new columns within dataframe\n",
    "df['Actual'] = y_test\n",
    "df['Predicted'] = y_predict\n",
    "\n",
    "freq, ax = plt.subplots(figsize=(10,10)) \n",
    "# Use pd.crosstab to count the frequency of the classes in actual and predicted\n",
    "#freq = pd.crosstab(df.Actual,df.Predicted)\n",
    "freq = pd.crosstab(df.Actual,df.Predicted)\n",
    "# Use sns.heatmap to plot the heatmap\n",
    "sns.heatmap(freq,annot=True,fmt=\"d\", ax = ax)"
   ]
  },
  {
   "cell_type": "markdown",
   "metadata": {},
   "source": [
    "# Input testowy dla użytkownika przewidujący wartość parametru loss"
   ]
  },
  {
   "cell_type": "code",
   "execution_count": 289,
   "metadata": {},
   "outputs": [
    {
     "name": "stdin",
     "output_type": "stream",
     "text": [
      "Normalized (1 or 0):  0\n",
      "Enter epochs number (10,20,60):  60\n",
      "Enter activator (linear = 0, sigmoid = 1):  1\n",
      "Enter number of hidden layers (2,3,4):  2\n"
     ]
    },
    {
     "name": "stdout",
     "output_type": "stream",
     "text": [
      "Predicted loss:  [16.] %\n"
     ]
    }
   ],
   "source": [
    "test = pd.DataFrame()\n",
    "KNN2 = KNeighborsClassifier(n_neighbors=30)\n",
    "KNN2 = KNN.fit(x_train_scale,y_train)\n",
    "\n",
    "test['Norm']= [input('Normalized (1 or 0): ')]\n",
    "test['Epochs']= [input('Enter epochs number (10,20,60): ')]\n",
    "test['Activ']=[input('Enter activator (linear = 0, sigmoid = 1): ')]\n",
    "test['Hidden']= [input('Enter number of hidden layers (2,3,4): ' )]\n",
    "\n",
    "predict_test2= KNN2.predict(test)\n",
    "print('Predicted loss: ',predict_test2, '%')\n"
   ]
  }
 ],
 "metadata": {
  "kernelspec": {
   "display_name": "Python 3",
   "language": "python",
   "name": "python3"
  },
  "language_info": {
   "codemirror_mode": {
    "name": "ipython",
    "version": 3
   },
   "file_extension": ".py",
   "mimetype": "text/x-python",
   "name": "python",
   "nbconvert_exporter": "python",
   "pygments_lexer": "ipython3",
   "version": "3.6.8"
  }
 },
 "nbformat": 4,
 "nbformat_minor": 4
}
